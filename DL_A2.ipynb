{
  "cells": [
    {
      "cell_type": "code",
      "execution_count": 1,
      "metadata": {
        "id": "bZL4VSxP5ctP"
      },
      "outputs": [],
      "source": [
        "import torch\n",
        "import torchvision\n",
        "import torchvision.transforms as transforms\n",
        "from torchvision.datasets import Flowers102\n",
        "from torch.utils.data import DataLoader\n",
        "import torch.nn as nn\n",
        "from torchvision import transforms\n",
        "from PIL import Image"
      ]
    },
    {
      "cell_type": "code",
      "execution_count": 2,
      "metadata": {
        "colab": {
          "base_uri": "https://localhost:8080/"
        },
        "id": "75paNnri5ctR",
        "outputId": "b1b1f336-8aed-4265-880a-4f57cfd7552b"
      },
      "outputs": [
        {
          "name": "stdout",
          "output_type": "stream",
          "text": [
            "Training dataset size: 1020\n",
            "Testing dataset size: 6149\n",
            "valing dataset size:1020\n"
          ]
        }
      ],
      "source": [
        "# 設定圖像轉換 (包括 resize) - 前處理\n",
        "transform = transforms.Compose([\n",
        "    transforms.Resize((224, 224)),            # 調整大小\n",
        "    transforms.RandomHorizontalFlip(p=0.5),        # 隨機水平翻轉\n",
        "    transforms.RandomRotation(45),            # 隨機旋轉45度\n",
        "    transforms.ColorJitter(brightness=0.5, contrast=0.5, saturation=0.5, hue=0.2), # 隨機改變亮度、對比度、飽和度和色調\n",
        "    transforms.ToTensor(),                    # 轉換為 Tensor\n",
        "    transforms.Normalize(mean=[0.485, 0.456, 0.406], std=[0.229, 0.224, 0.225])  # 標準化\n",
        "])\n",
        "trainval_transform = transforms.Compose([\n",
        "    transforms.Resize((224, 224)),            # 調整大小\n",
        "    transforms.ToTensor(),                    # 轉換為 Tensor\n",
        "    transforms.Normalize(mean=[0.485, 0.456, 0.406], std=[0.229, 0.224, 0.225])  # 標準化\n",
        "])\n",
        "\n",
        "# 加載 Flowers102 資料集\n",
        "train_dataset = Flowers102(root='./data', split='train', download=True, transform=trainval_transform)\n",
        "test_dataset = Flowers102(root='./data', split='test', download=True, transform=transform)\n",
        "val_dataset = Flowers102(root='./data', split='val', download=True, transform=trainval_transform)\n",
        "\n",
        "# 查看資料集大小\n",
        "print(f\"Training dataset size: {len(train_dataset)}\")\n",
        "print(f\"Testing dataset size: {len(test_dataset)}\")\n",
        "print(f\"valing dataset size:{len(val_dataset)}\")\n",
        "\n",
        "#因為test_dataset遠大於train_dataset，因此要對調\n",
        "# 加載 Flowers102 資料集\n",
        "train_loader = DataLoader(test_dataset, batch_size=32, shuffle=True)\n",
        "test_loader = DataLoader(train_dataset, batch_size=32)\n",
        "val_loader = DataLoader(val_dataset, batch_size=32)"
      ]
    },
    {
      "cell_type": "markdown",
      "metadata": {
        "id": "cMojanJJ6yHI"
      },
      "source": [
        "Using GPU or other accelerator to Training."
      ]
    },
    {
      "cell_type": "code",
      "execution_count": 3,
      "metadata": {
        "colab": {
          "base_uri": "https://localhost:8080/"
        },
        "id": "bxmJ4SUb6nWS",
        "outputId": "b03c214e-d754-4db7-e361-9026d3db3a71"
      },
      "outputs": [
        {
          "name": "stdout",
          "output_type": "stream",
          "text": [
            "[INFO] Current device: NVIDIA GeForce RTX 3090 Ti , device num:0\n"
          ]
        }
      ],
      "source": [
        "if torch.cuda.is_available():\n",
        "    device = 'cuda:0'\n",
        "    print(\"[INFO] Current device:\", torch.cuda.get_device_name(torch.cuda.current_device()), f\", device num:{torch.cuda.current_device()}\")\n",
        "elif torch.has_mps:\n",
        "    device = 'mps'\n",
        "    print(\"[INFO] Current device: MAC OS Metal Performance Shaders.\")\n",
        "else:\n",
        "    device = 'cpu'\n",
        "    print(\"[INFO] Current device: CPU\")\n",
        "    print(\"*\"*50,\"\\n[WARNING] You may need to change the device to GPU or MPS to get better performance.\")\n",
        "    print(\"*\"*50)\n",
        "device = torch.device(device)"
      ]
    },
    {
      "cell_type": "markdown",
      "metadata": {
        "id": "isnomp615ctT"
      },
      "source": [
        "左邊是BasicBlock,右邊是Bottleneck_Block\n",
        "\n",
        "[64,64,256]表示out_chanl大小\n",
        "\n",
        "![My Image](res_block.png)"
      ]
    },
    {
      "cell_type": "code",
      "execution_count": 4,
      "metadata": {
        "id": "KeppBcvl5ctU"
      },
      "outputs": [],
      "source": [
        "#創建Bottleneck結構的block塊\n",
        "class Res_Bottleneck_Block(nn.Module):\n",
        "    expansion = 4\n",
        "\n",
        "    def __init__(self, in_channel, out_channel, stride=1, downsample=None):\n",
        "        super(Res_Bottleneck_Block, self).__init__()\n",
        "        #1x1 convolution layer:改變通道數為 out_channel\n",
        "        self.conv1 = nn.Conv2d(in_channels=in_channel, out_channels=out_channel,\n",
        "                               kernel_size=1, stride=1, bias=False)\n",
        "        self.bn1 = nn.BatchNorm2d(out_channel)\n",
        "        self.relu = nn.ReLU(inplace=True)\n",
        "        #3x3 卷積層，保持空間維度，使用 padding=1\n",
        "        self.conv2 = nn.Conv2d(in_channels=out_channel, out_channels=out_channel,\n",
        "                               kernel_size=3, stride=stride, bias=False, padding=1)\n",
        "        self.bn2 = nn.BatchNorm2d(out_channel)\n",
        "        #self.relu = nn.ReLU()\n",
        "        # 1x1 卷積層，增大通道數到 out_channel * self.expansion\n",
        "        self.conv3 = nn.Conv2d(in_channels=out_channel, out_channels=out_channel * self.expansion,\n",
        "                               kernel_size=1, stride=1, bias=False)  # unsqueeze channels\n",
        "        self.bn3 = nn.BatchNorm2d(out_channel * self.expansion)\n",
        "        #self.relu = nn.ReLU()\n",
        "\n",
        "        self.downsample = downsample\n",
        "    def forward(self, x):\n",
        "        # 是否需要下采样来保证res与result可以正常相加\n",
        "        if self.downsample is not None:\n",
        "            x_origin = self.downsample(x)\n",
        "        else:\n",
        "          x_origin = x\n",
        "\n",
        "        # print(f\"0x資料形狀: {x.shape}\")\n",
        "        x = self.conv1(x)\n",
        "        x = self.bn1(x)\n",
        "        x = self.relu(x)\n",
        "        # print(f\"conv1x資料形狀: {x.shape}\")\n",
        "        x = self.conv2(x)\n",
        "        x = self.bn2(x)\n",
        "        x = self.relu(x)\n",
        "        # print(f\"conv2x資料形狀: {x.shape}\")\n",
        "        x = self.conv3(x)\n",
        "        x = self.bn3(x)\n",
        "        # print(f\"conv3x資料形狀: {x.shape}\")\n",
        "\n",
        "        #殘差相加\n",
        "        # print(f\"x_origin資料形狀: {x_origin.shape}\")\n",
        "        # print(f\"x資料形狀: {x.shape}\")\n",
        "        out = x_origin + x\n",
        "\n",
        "        out = self.relu(out)\n",
        "\n",
        "        return x\n"
      ]
    },
    {
      "cell_type": "code",
      "execution_count": 5,
      "metadata": {},
      "outputs": [],
      "source": [
        "class Res_BasicBlock(nn.Module):\n",
        "    expansion = 1\n",
        "\n",
        "    def __init__(self, in_channel, out_channel, stride=1, downsample=None, **kwargs):\n",
        "        super(Res_BasicBlock, self).__init__()\n",
        "        self.conv1 = nn.Conv2d(in_channels=in_channel, out_channels=out_channel,\n",
        "                               kernel_size=3, stride=stride, padding=1, bias=False)\n",
        "        self.bn1 = nn.BatchNorm2d(out_channel)\n",
        "        self.relu = nn.ReLU()\n",
        "        self.conv2 = nn.Conv2d(in_channels=out_channel, out_channels=out_channel,\n",
        "                               kernel_size=3, stride=1, padding=1, bias=False)\n",
        "        self.bn2 = nn.BatchNorm2d(out_channel)\n",
        "        self.downsample = downsample\n",
        "\n",
        "    def forward(self, x):\n",
        "        identity = x\n",
        "        if self.downsample is not None:\n",
        "            identity = self.downsample(x)\n",
        "\n",
        "        out = self.conv1(x)\n",
        "        out = self.bn1(out)\n",
        "        out = self.relu(out)\n",
        "\n",
        "        out = self.conv2(out)\n",
        "        out = self.bn2(out)\n",
        "\n",
        "        out += identity\n",
        "        out = self.relu(out)\n",
        "\n",
        "        return out\n"
      ]
    },
    {
      "cell_type": "code",
      "execution_count": 6,
      "metadata": {
        "id": "WSlSJGt5erzk"
      },
      "outputs": [],
      "source": [
        "class ResNet(nn.Module):\n",
        "\n",
        "    def __init__(self, block, blocks_num, num_classes=102, dropout_rate=0.5):\n",
        "        super(ResNet, self).__init__()\n",
        "        self.in_channel = 64\n",
        "        self.conv1 = nn.Conv2d(3, self.in_channel, kernel_size=7, stride=2, padding=3, bias=False)\n",
        "        self.bn1 = nn.BatchNorm2d(self.in_channel)\n",
        "        self.relu = nn.ReLU(inplace=True)\n",
        "        self.maxpool = nn.MaxPool2d(kernel_size=3, stride=2, padding=1)\n",
        "\n",
        "        self.layer1 = self._make_layer(block, 64, blocks_num[0])\n",
        "        self.layer2 = self._make_layer(block, 128, blocks_num[1], stride=2)\n",
        "        self.layer3 = self._make_layer(block, 256, blocks_num[2], stride=2)\n",
        "        self.layer4 = self._make_layer(block, 512, blocks_num[3], stride=2)\n",
        "\n",
        "        self.avgpool = nn.AdaptiveAvgPool2d((1, 1))\n",
        "        self.fc1 = nn.Linear(512 * block.expansion, 128 * block.expansion)\n",
        "        self.dropout1 = nn.Dropout(dropout_rate)  # 第一層 Dropout\n",
        "        self.fc2 = nn.Linear(128 * block.expansion, 64 * block.expansion)\n",
        "        self.dropout2 = nn.Dropout(dropout_rate)  # 第二層 Dropout\n",
        "        self.fc3 = nn.Linear(64 * block.expansion, num_classes)\n",
        "\n",
        "        for m in self.modules():\n",
        "            if isinstance(m, nn.Conv2d):\n",
        "                nn.init.kaiming_normal_(m.weight, mode='fan_out', nonlinearity='relu')\n",
        "\n",
        "    def _make_layer(self, block, out_channel, block_num, stride=1):\n",
        "        downsample = None\n",
        "        if stride != 1 or self.in_channel != out_channel * block.expansion:\n",
        "            downsample = nn.Sequential(\n",
        "                nn.Conv2d(self.in_channel, out_channel * block.expansion, kernel_size=1, stride=stride, bias=False),\n",
        "                nn.BatchNorm2d(out_channel * block.expansion))\n",
        "\n",
        "        layers = []\n",
        "        layers.append(block(self.in_channel, out_channel, downsample=downsample, stride=stride))\n",
        "        self.in_channel = out_channel * block.expansion\n",
        "\n",
        "        for _ in range(1, block_num):\n",
        "            layers.append(block(self.in_channel, out_channel))\n",
        "\n",
        "        return nn.Sequential(*layers)\n",
        "\n",
        "    def forward(self, x):\n",
        "        x = self.conv1(x)\n",
        "        x = self.bn1(x)\n",
        "        x = self.relu(x)\n",
        "        x = self.maxpool(x)\n",
        "\n",
        "        x = self.layer1(x)\n",
        "        x = self.layer2(x)\n",
        "        x = self.layer3(x)\n",
        "        x = self.layer4(x)\n",
        "\n",
        "        x = self.avgpool(x)\n",
        "        x = torch.flatten(x, 1)\n",
        "        x = self.dropout1(x)  # 使用 Dropout\n",
        "        x = self.fc1(x)\n",
        "        # x = self.relu(x)\n",
        "        # x = self.fc2(x)\n",
        "        # x = self.dropout2(x)  # 使用 Dropout\n",
        "        # x = self.relu(x)\n",
        "        # x = self.fc3(x)\n",
        "\n",
        "        return x\n",
        "\n",
        "def resnet50(num_classes=102):\n",
        "    return ResNet(Res_Bottleneck_Block, [3, 4, 6, 3], num_classes=num_classes)\n",
        "def resnet34(num_classes=102):\n",
        "    return ResNet(Res_BasicBlock, [3, 4, 6, 3], num_classes=num_classes)"
      ]
    },
    {
      "cell_type": "markdown",
      "metadata": {},
      "source": [
        "選擇要使用的神經網路"
      ]
    },
    {
      "cell_type": "code",
      "execution_count": 7,
      "metadata": {},
      "outputs": [],
      "source": [
        "net = resnet34().to(device)"
      ]
    },
    {
      "cell_type": "markdown",
      "metadata": {
        "id": "LX4NeRhL5ctU"
      },
      "source": [
        "# 3. Define a Loss function and optimizer  \n",
        "^^^^^^^^^^^^^^^^^^^^^^^^^^^^^^^^^^^^^^^^^^^^^^^^^^^^^^^^^^  \n",
        "Let's use a Classification Cross-Entropy loss and SGD with momentum.\n",
        "\n"
      ]
    },
    {
      "cell_type": "code",
      "execution_count": 8,
      "metadata": {
        "id": "VnTFt4V45ctV"
      },
      "outputs": [],
      "source": [
        "import torch.optim as optim\n",
        "\n",
        "criterion = nn.CrossEntropyLoss()\n",
        "optimizer = optim.AdamW(net.parameters(), lr=0.001, weight_decay=1e-4)\n",
        "# you can try other optimizer like Adam, RMSprop, etc."
      ]
    },
    {
      "cell_type": "markdown",
      "metadata": {
        "id": "1K3ONM4s5ctV"
      },
      "source": [
        "# 4. Train the network\n",
        "^^^^^^^^^^^^^^^^^^^^^^^^^^^^^^  \n",
        "This is when things start to get interesting.\n",
        "We simply have to loop over our data iterator, and feed the inputs to the\n",
        "network and optimize.\n",
        "\n"
      ]
    },
    {
      "cell_type": "code",
      "execution_count": 9,
      "metadata": {
        "colab": {
          "base_uri": "https://localhost:8080/"
        },
        "id": "JIxoA5_X5ctV",
        "outputId": "b1aa8ec2-c284-4db8-84bd-0c58e86aa82d"
      },
      "outputs": [
        {
          "name": "stdout",
          "output_type": "stream",
          "text": [
            "\n",
            "Epoch:1\n",
            "\tBatch:140 of 193, loss:4.1511616706848145"
          ]
        },
        {
          "ename": "KeyboardInterrupt",
          "evalue": "",
          "output_type": "error",
          "traceback": [
            "\u001b[0;31m---------------------------------------------------------------------------\u001b[0m",
            "\u001b[0;31mKeyboardInterrupt\u001b[0m                         Traceback (most recent call last)",
            "Cell \u001b[0;32mIn[9], line 15\u001b[0m\n\u001b[1;32m     13\u001b[0m train_correct \u001b[38;5;241m=\u001b[39m \u001b[38;5;241m0\u001b[39m\n\u001b[1;32m     14\u001b[0m train_total \u001b[38;5;241m=\u001b[39m \u001b[38;5;241m0\u001b[39m\n\u001b[0;32m---> 15\u001b[0m \u001b[43m\u001b[49m\u001b[38;5;28;43;01mfor\u001b[39;49;00m\u001b[43m \u001b[49m\u001b[43mi\u001b[49m\u001b[43m,\u001b[49m\u001b[43m \u001b[49m\u001b[43mdata\u001b[49m\u001b[43m \u001b[49m\u001b[38;5;129;43;01min\u001b[39;49;00m\u001b[43m \u001b[49m\u001b[38;5;28;43menumerate\u001b[39;49m\u001b[43m(\u001b[49m\u001b[43mtrain_loader\u001b[49m\u001b[43m,\u001b[49m\u001b[43m \u001b[49m\u001b[38;5;241;43m0\u001b[39;49m\u001b[43m)\u001b[49m\u001b[43m:\u001b[49m\n\u001b[1;32m     16\u001b[0m \u001b[43m    \u001b[49m\u001b[38;5;66;43;03m# get the inputs, and use .to(device) to move your data to accelerator.\u001b[39;49;00m\n\u001b[1;32m     17\u001b[0m \u001b[43m    \u001b[49m\u001b[43minputs\u001b[49m\u001b[43m,\u001b[49m\u001b[43m \u001b[49m\u001b[43mlabels\u001b[49m\u001b[43m \u001b[49m\u001b[38;5;241;43m=\u001b[39;49m\u001b[43m \u001b[49m\u001b[43mdata\u001b[49m\u001b[43m[\u001b[49m\u001b[38;5;241;43m0\u001b[39;49m\u001b[43m]\u001b[49m\u001b[38;5;241;43m.\u001b[39;49m\u001b[43mto\u001b[49m\u001b[43m(\u001b[49m\u001b[43mdevice\u001b[49m\u001b[43m)\u001b[49m\u001b[43m,\u001b[49m\u001b[43m \u001b[49m\u001b[43mdata\u001b[49m\u001b[43m[\u001b[49m\u001b[38;5;241;43m1\u001b[39;49m\u001b[43m]\u001b[49m\u001b[38;5;241;43m.\u001b[39;49m\u001b[43mto\u001b[49m\u001b[43m(\u001b[49m\u001b[43mdevice\u001b[49m\u001b[43m)\u001b[49m\n\u001b[1;32m     19\u001b[0m \u001b[43m    \u001b[49m\u001b[38;5;66;43;03m# Eliminate previous gradients to avoid gradients accumulation.\u001b[39;49;00m\n",
            "File \u001b[0;32m~/cedric/.conda/lib/python3.11/site-packages/torch/utils/data/dataloader.py:630\u001b[0m, in \u001b[0;36m_BaseDataLoaderIter.__next__\u001b[0;34m(self)\u001b[0m\n\u001b[1;32m    627\u001b[0m \u001b[38;5;28;01mif\u001b[39;00m \u001b[38;5;28mself\u001b[39m\u001b[38;5;241m.\u001b[39m_sampler_iter \u001b[38;5;129;01mis\u001b[39;00m \u001b[38;5;28;01mNone\u001b[39;00m:\n\u001b[1;32m    628\u001b[0m     \u001b[38;5;66;03m# TODO(https://github.com/pytorch/pytorch/issues/76750)\u001b[39;00m\n\u001b[1;32m    629\u001b[0m     \u001b[38;5;28mself\u001b[39m\u001b[38;5;241m.\u001b[39m_reset()  \u001b[38;5;66;03m# type: ignore[call-arg]\u001b[39;00m\n\u001b[0;32m--> 630\u001b[0m data \u001b[38;5;241m=\u001b[39m \u001b[38;5;28;43mself\u001b[39;49m\u001b[38;5;241;43m.\u001b[39;49m\u001b[43m_next_data\u001b[49m\u001b[43m(\u001b[49m\u001b[43m)\u001b[49m\n\u001b[1;32m    631\u001b[0m \u001b[38;5;28mself\u001b[39m\u001b[38;5;241m.\u001b[39m_num_yielded \u001b[38;5;241m+\u001b[39m\u001b[38;5;241m=\u001b[39m \u001b[38;5;241m1\u001b[39m\n\u001b[1;32m    632\u001b[0m \u001b[38;5;28;01mif\u001b[39;00m \u001b[38;5;28mself\u001b[39m\u001b[38;5;241m.\u001b[39m_dataset_kind \u001b[38;5;241m==\u001b[39m _DatasetKind\u001b[38;5;241m.\u001b[39mIterable \u001b[38;5;129;01mand\u001b[39;00m \\\n\u001b[1;32m    633\u001b[0m         \u001b[38;5;28mself\u001b[39m\u001b[38;5;241m.\u001b[39m_IterableDataset_len_called \u001b[38;5;129;01mis\u001b[39;00m \u001b[38;5;129;01mnot\u001b[39;00m \u001b[38;5;28;01mNone\u001b[39;00m \u001b[38;5;129;01mand\u001b[39;00m \\\n\u001b[1;32m    634\u001b[0m         \u001b[38;5;28mself\u001b[39m\u001b[38;5;241m.\u001b[39m_num_yielded \u001b[38;5;241m>\u001b[39m \u001b[38;5;28mself\u001b[39m\u001b[38;5;241m.\u001b[39m_IterableDataset_len_called:\n",
            "File \u001b[0;32m~/cedric/.conda/lib/python3.11/site-packages/torch/utils/data/dataloader.py:673\u001b[0m, in \u001b[0;36m_SingleProcessDataLoaderIter._next_data\u001b[0;34m(self)\u001b[0m\n\u001b[1;32m    671\u001b[0m \u001b[38;5;28;01mdef\u001b[39;00m \u001b[38;5;21m_next_data\u001b[39m(\u001b[38;5;28mself\u001b[39m):\n\u001b[1;32m    672\u001b[0m     index \u001b[38;5;241m=\u001b[39m \u001b[38;5;28mself\u001b[39m\u001b[38;5;241m.\u001b[39m_next_index()  \u001b[38;5;66;03m# may raise StopIteration\u001b[39;00m\n\u001b[0;32m--> 673\u001b[0m     data \u001b[38;5;241m=\u001b[39m \u001b[38;5;28;43mself\u001b[39;49m\u001b[38;5;241;43m.\u001b[39;49m\u001b[43m_dataset_fetcher\u001b[49m\u001b[38;5;241;43m.\u001b[39;49m\u001b[43mfetch\u001b[49m\u001b[43m(\u001b[49m\u001b[43mindex\u001b[49m\u001b[43m)\u001b[49m  \u001b[38;5;66;03m# may raise StopIteration\u001b[39;00m\n\u001b[1;32m    674\u001b[0m     \u001b[38;5;28;01mif\u001b[39;00m \u001b[38;5;28mself\u001b[39m\u001b[38;5;241m.\u001b[39m_pin_memory:\n\u001b[1;32m    675\u001b[0m         data \u001b[38;5;241m=\u001b[39m _utils\u001b[38;5;241m.\u001b[39mpin_memory\u001b[38;5;241m.\u001b[39mpin_memory(data, \u001b[38;5;28mself\u001b[39m\u001b[38;5;241m.\u001b[39m_pin_memory_device)\n",
            "File \u001b[0;32m~/cedric/.conda/lib/python3.11/site-packages/torch/utils/data/_utils/fetch.py:52\u001b[0m, in \u001b[0;36m_MapDatasetFetcher.fetch\u001b[0;34m(self, possibly_batched_index)\u001b[0m\n\u001b[1;32m     50\u001b[0m         data \u001b[38;5;241m=\u001b[39m \u001b[38;5;28mself\u001b[39m\u001b[38;5;241m.\u001b[39mdataset\u001b[38;5;241m.\u001b[39m__getitems__(possibly_batched_index)\n\u001b[1;32m     51\u001b[0m     \u001b[38;5;28;01melse\u001b[39;00m:\n\u001b[0;32m---> 52\u001b[0m         data \u001b[38;5;241m=\u001b[39m \u001b[43m[\u001b[49m\u001b[38;5;28;43mself\u001b[39;49m\u001b[38;5;241;43m.\u001b[39;49m\u001b[43mdataset\u001b[49m\u001b[43m[\u001b[49m\u001b[43midx\u001b[49m\u001b[43m]\u001b[49m\u001b[43m \u001b[49m\u001b[38;5;28;43;01mfor\u001b[39;49;00m\u001b[43m \u001b[49m\u001b[43midx\u001b[49m\u001b[43m \u001b[49m\u001b[38;5;129;43;01min\u001b[39;49;00m\u001b[43m \u001b[49m\u001b[43mpossibly_batched_index\u001b[49m\u001b[43m]\u001b[49m\n\u001b[1;32m     53\u001b[0m \u001b[38;5;28;01melse\u001b[39;00m:\n\u001b[1;32m     54\u001b[0m     data \u001b[38;5;241m=\u001b[39m \u001b[38;5;28mself\u001b[39m\u001b[38;5;241m.\u001b[39mdataset[possibly_batched_index]\n",
            "File \u001b[0;32m~/cedric/.conda/lib/python3.11/site-packages/torch/utils/data/_utils/fetch.py:52\u001b[0m, in \u001b[0;36m<listcomp>\u001b[0;34m(.0)\u001b[0m\n\u001b[1;32m     50\u001b[0m         data \u001b[38;5;241m=\u001b[39m \u001b[38;5;28mself\u001b[39m\u001b[38;5;241m.\u001b[39mdataset\u001b[38;5;241m.\u001b[39m__getitems__(possibly_batched_index)\n\u001b[1;32m     51\u001b[0m     \u001b[38;5;28;01melse\u001b[39;00m:\n\u001b[0;32m---> 52\u001b[0m         data \u001b[38;5;241m=\u001b[39m [\u001b[38;5;28;43mself\u001b[39;49m\u001b[38;5;241;43m.\u001b[39;49m\u001b[43mdataset\u001b[49m\u001b[43m[\u001b[49m\u001b[43midx\u001b[49m\u001b[43m]\u001b[49m \u001b[38;5;28;01mfor\u001b[39;00m idx \u001b[38;5;129;01min\u001b[39;00m possibly_batched_index]\n\u001b[1;32m     53\u001b[0m \u001b[38;5;28;01melse\u001b[39;00m:\n\u001b[1;32m     54\u001b[0m     data \u001b[38;5;241m=\u001b[39m \u001b[38;5;28mself\u001b[39m\u001b[38;5;241m.\u001b[39mdataset[possibly_batched_index]\n",
            "File \u001b[0;32m~/cedric/.conda/lib/python3.11/site-packages/torchvision/datasets/flowers102.py:81\u001b[0m, in \u001b[0;36mFlowers102.__getitem__\u001b[0;34m(self, idx)\u001b[0m\n\u001b[1;32m     79\u001b[0m \u001b[38;5;28;01mdef\u001b[39;00m \u001b[38;5;21m__getitem__\u001b[39m(\u001b[38;5;28mself\u001b[39m, idx: \u001b[38;5;28mint\u001b[39m) \u001b[38;5;241m-\u001b[39m\u001b[38;5;241m>\u001b[39m Tuple[Any, Any]:\n\u001b[1;32m     80\u001b[0m     image_file, label \u001b[38;5;241m=\u001b[39m \u001b[38;5;28mself\u001b[39m\u001b[38;5;241m.\u001b[39m_image_files[idx], \u001b[38;5;28mself\u001b[39m\u001b[38;5;241m.\u001b[39m_labels[idx]\n\u001b[0;32m---> 81\u001b[0m     image \u001b[38;5;241m=\u001b[39m \u001b[43mPIL\u001b[49m\u001b[38;5;241;43m.\u001b[39;49m\u001b[43mImage\u001b[49m\u001b[38;5;241;43m.\u001b[39;49m\u001b[43mopen\u001b[49m\u001b[43m(\u001b[49m\u001b[43mimage_file\u001b[49m\u001b[43m)\u001b[49m\u001b[38;5;241m.\u001b[39mconvert(\u001b[38;5;124m\"\u001b[39m\u001b[38;5;124mRGB\u001b[39m\u001b[38;5;124m\"\u001b[39m)\n\u001b[1;32m     83\u001b[0m     \u001b[38;5;28;01mif\u001b[39;00m \u001b[38;5;28mself\u001b[39m\u001b[38;5;241m.\u001b[39mtransform:\n\u001b[1;32m     84\u001b[0m         image \u001b[38;5;241m=\u001b[39m \u001b[38;5;28mself\u001b[39m\u001b[38;5;241m.\u001b[39mtransform(image)\n",
            "File \u001b[0;32m~/cedric/.conda/lib/python3.11/site-packages/PIL/Image.py:3242\u001b[0m, in \u001b[0;36mopen\u001b[0;34m(fp, mode, formats)\u001b[0m\n\u001b[1;32m   3240\u001b[0m filename \u001b[38;5;241m=\u001b[39m \u001b[38;5;124m\"\u001b[39m\u001b[38;5;124m\"\u001b[39m\n\u001b[1;32m   3241\u001b[0m \u001b[38;5;28;01mif\u001b[39;00m \u001b[38;5;28misinstance\u001b[39m(fp, Path):\n\u001b[0;32m-> 3242\u001b[0m     filename \u001b[38;5;241m=\u001b[39m \u001b[38;5;28mstr\u001b[39m(\u001b[43mfp\u001b[49m\u001b[38;5;241;43m.\u001b[39;49m\u001b[43mresolve\u001b[49m\u001b[43m(\u001b[49m\u001b[43m)\u001b[49m)\n\u001b[1;32m   3243\u001b[0m \u001b[38;5;28;01melif\u001b[39;00m is_path(fp):\n\u001b[1;32m   3244\u001b[0m     filename \u001b[38;5;241m=\u001b[39m fp\n",
            "File \u001b[0;32m~/cedric/.conda/lib/python3.11/pathlib.py:993\u001b[0m, in \u001b[0;36mPath.resolve\u001b[0;34m(self, strict)\u001b[0m\n\u001b[1;32m    990\u001b[0m         \u001b[38;5;28;01mraise\u001b[39;00m \u001b[38;5;167;01mRuntimeError\u001b[39;00m(\u001b[38;5;124m\"\u001b[39m\u001b[38;5;124mSymlink loop from \u001b[39m\u001b[38;5;132;01m%r\u001b[39;00m\u001b[38;5;124m\"\u001b[39m \u001b[38;5;241m%\u001b[39m e\u001b[38;5;241m.\u001b[39mfilename)\n\u001b[1;32m    992\u001b[0m \u001b[38;5;28;01mtry\u001b[39;00m:\n\u001b[0;32m--> 993\u001b[0m     s \u001b[38;5;241m=\u001b[39m \u001b[43mos\u001b[49m\u001b[38;5;241;43m.\u001b[39;49m\u001b[43mpath\u001b[49m\u001b[38;5;241;43m.\u001b[39;49m\u001b[43mrealpath\u001b[49m\u001b[43m(\u001b[49m\u001b[38;5;28;43mself\u001b[39;49m\u001b[43m,\u001b[49m\u001b[43m \u001b[49m\u001b[43mstrict\u001b[49m\u001b[38;5;241;43m=\u001b[39;49m\u001b[43mstrict\u001b[49m\u001b[43m)\u001b[49m\n\u001b[1;32m    994\u001b[0m \u001b[38;5;28;01mexcept\u001b[39;00m \u001b[38;5;167;01mOSError\u001b[39;00m \u001b[38;5;28;01mas\u001b[39;00m e:\n\u001b[1;32m    995\u001b[0m     check_eloop(e)\n",
            "File \u001b[0;32m<frozen posixpath>:416\u001b[0m, in \u001b[0;36mrealpath\u001b[0;34m(filename, strict)\u001b[0m\n",
            "File \u001b[0;32m<frozen posixpath>:431\u001b[0m, in \u001b[0;36m_joinrealpath\u001b[0;34m(path, rest, strict, seen)\u001b[0m\n",
            "File \u001b[0;32m<frozen posixpath>:64\u001b[0m, in \u001b[0;36misabs\u001b[0;34m(s)\u001b[0m\n",
            "\u001b[0;31mKeyboardInterrupt\u001b[0m: "
          ]
        }
      ],
      "source": [
        "EPOCHS = 300  # you can try more epochs number to get better performance.\n",
        "train_losses = []\n",
        "accuracy_arr = []\n",
        "best_accuracy = 0.0  # 初始化最佳準確度\n",
        "# ReduceLROnPlateau 根據驗證集的準確度下降學習率，當經過15個epoch，準確度都沒上升，學習率x0.1\n",
        "scheduler = torch.optim.lr_scheduler.CosineAnnealingLR(optimizer, T_max=EPOCHS) #使用 Cosine Annealing 作為學習率下降策略\n",
        "\n",
        "for epoch in range(EPOCHS):  # loop over the dataset multiple times\n",
        "\n",
        "    net.train()  # 開始訓練模式\n",
        "    loss_mean = 0\n",
        "    # 訓練循環\n",
        "    train_correct = 0\n",
        "    train_total = 0\n",
        "    for i, data in enumerate(train_loader, 0):\n",
        "        # get the inputs, and use .to(device) to move your data to accelerator.\n",
        "        inputs, labels = data[0].to(device), data[1].to(device)\n",
        "\n",
        "        # Eliminate previous gradients to avoid gradients accumulation.\n",
        "        optimizer.zero_grad()\n",
        "\n",
        "        # forward + backward + optimize\n",
        "        outputs = net(inputs)\n",
        "        loss = criterion(outputs, labels)\n",
        "        loss.backward()\n",
        "        optimizer.step()\n",
        "\n",
        "        # print statistics\n",
        "        if i == 0:\n",
        "            print(f\"\\nEpoch:{epoch + 1}\")\n",
        "        loss_mean += loss.item()\n",
        "        print(f\"\\r\\tBatch:{i + 1:03} of {len(train_loader)}, loss:{loss.item()}\", end='')\n",
        "    \n",
        "    loss_mean = loss_mean / len(train_loader)\n",
        "    print(f\"\\n\\tloss_mean:{loss_mean}\")\n",
        "    train_losses.append(loss_mean)\n",
        "    \n",
        "    # 在每個訓練週期結束後計算驗證集的準確度\n",
        "    net.eval()  # 切換到評估模式\n",
        "    \n",
        "    # 驗證循環 \n",
        "    val_correct = 0\n",
        "    val_total = 0\n",
        "    with torch.no_grad():\n",
        "        for data in val_loader:\n",
        "            images, labels = data[0].to(device), data[1].to(device)\n",
        "            outputs = net(images)\n",
        "            _, predicted = torch.max(outputs, 1)\n",
        "            val_total += labels.size(0)\n",
        "            val_correct += (predicted == labels).sum().item()\n",
        "\n",
        "    # 計算訓練集的準確度\n",
        "    with torch.no_grad():\n",
        "        for data in train_loader:\n",
        "            images, labels = data[0].to(device), data[1].to(device)\n",
        "            outputs = net(images)\n",
        "            _, predicted = torch.max(outputs, 1)\n",
        "            train_total += labels.size(0)\n",
        "            train_correct += (predicted == labels).sum().item()\n",
        "\n",
        "    # 計算準確度\n",
        "    val_accuracy = val_correct / val_total if val_total > 0 else 0\n",
        "    train_accuracy = train_correct / train_total if train_total > 0 else 0\n",
        "    accuracy_arr.append(val_accuracy)\n",
        "    \n",
        "    print(f'\\tValidation Accuracy after epoch {epoch + 1}: {val_accuracy:.2f}, {val_correct}/{val_total}')\n",
        "    print(f'\\tTraining Accuracy after epoch {epoch + 1}: {train_accuracy:.2f}, {train_correct}/{train_total}')\n",
        "\n",
        "    # 檢查準確度是否是最佳的\n",
        "    if val_accuracy > best_accuracy:\n",
        "        best_accuracy = val_accuracy\n",
        "        best_model_path = './res34/best_model_epoch'+str(epoch) +'.pth' # 權重檔的儲存路徑\n",
        "        torch.save(net.state_dict(), best_model_path)  # 儲存最佳權重\n",
        "        print(f'\\tBest model saved with accuracy: {best_accuracy:.2f}')\n",
        "\n",
        "    # 調整學習率\n",
        "    scheduler.step()\n",
        "\n",
        "print('\\nFinished Training')\n"
      ]
    },
    {
      "cell_type": "markdown",
      "metadata": {
        "id": "v5EpXpkr5ctW"
      },
      "source": [
        "# 5. Test the network on the test data  \n",
        "^^^^^^^^^^^^^^^^^^^^^^^^^^^^^^^^^^^^^^^^^^^^^^^^  \n",
        "\n",
        "We have trained the network for 10 passes over the training dataset.  \n",
        "But we need to check if the network has learnt anything at all.  \n",
        "\n",
        "We will check this by predicting the class label that the neural network\n",
        "outputs, and checking it against the ground-truth. If the prediction is\n",
        "correct, we add the sample to the list of correct predictions.  \n",
        "\n",
        "Okay, first step. Let us display an image from the test set to get familiar.\n",
        "\n"
      ]
    },
    {
      "cell_type": "markdown",
      "metadata": {
        "id": "ywIaSc_P5ctX"
      },
      "source": [
        "The results seem pretty good.\n",
        "\n",
        "Let us look at how the network performs on the whole dataset.\n",
        "\n"
      ]
    },
    {
      "cell_type": "code",
      "execution_count": null,
      "metadata": {
        "colab": {
          "base_uri": "https://localhost:8080/"
        },
        "id": "u_i9djfp5ctX",
        "outputId": "f4532e15-e397-45c0-f795-42cb2520aa76"
      },
      "outputs": [
        {
          "name": "stdout",
          "output_type": "stream",
          "text": [
            "Accuracy of the network on the 10000 test images: 51 %\n"
          ]
        }
      ],
      "source": [
        "correct = 0\n",
        "total = 0\n",
        "net.eval()\n",
        "with torch.no_grad():\n",
        "    for data in test_loader:\n",
        "        images, labels = data\n",
        "        outputs = net(images.to(device))\n",
        "        _, predicted = torch.max(outputs.data, 1)\n",
        "        total += labels.size(0)\n",
        "        correct += (predicted.cpu() == labels).sum().item()\n",
        "\n",
        "print(f'Accuracy of the network on the 10000 test images: {100*correct/total}%, {correct} / {total}')"
      ]
    },
    {
      "cell_type": "markdown",
      "metadata": {
        "id": "Yh41EHfp5ctY"
      },
      "source": [
        "That looks waaay better than chance, which is 10% accuracy (randomly picking\n",
        "a class out of 10 classes).\n",
        "Seems like the network learnt something.\n",
        "\n",
        "Hmmm, what are the classes that performed well, and the classes that did\n",
        "not perform well:\n",
        "\n"
      ]
    },
    {
      "cell_type": "code",
      "execution_count": null,
      "metadata": {
        "colab": {
          "base_uri": "https://localhost:8080/"
        },
        "id": "qZOAboBH5ctY",
        "outputId": "641ba717-5bec-4e3e-8a81-14c7c74100a8"
      },
      "outputs": [
        {
          "name": "stdout",
          "output_type": "stream",
          "text": [
            "Accuracy of plane : 71 %\n",
            "Accuracy of   car : 66 %\n",
            "Accuracy of  bird : 22 %\n",
            "Accuracy of   cat : 30 %\n",
            "Accuracy of  deer : 38 %\n",
            "Accuracy of   dog : 50 %\n",
            "Accuracy of  frog : 55 %\n",
            "Accuracy of horse : 70 %\n",
            "Accuracy of  ship : 48 %\n",
            "Accuracy of truck : 52 %\n"
          ]
        }
      ],
      "source": [
        "class_correct = list(0. for i in range(10))\n",
        "class_total = list(0. for i in range(10))\n",
        "preds = np.zeros((1))\n",
        "truth = np.zeros((1))\n",
        "net.eval()\n",
        "with torch.no_grad():\n",
        "    for data in testloader:\n",
        "        images, labels = data\n",
        "        outputs = net(images.to(device))\n",
        "        _, predicted = torch.max(outputs, 1)\n",
        "        c = (predicted.cpu() == labels).squeeze()\n",
        "        preds = np.concatenate([preds, predicted.cpu().numpy()], axis=0)\n",
        "        truth = np.concatenate([truth, labels.numpy()], axis=0)\n",
        "        for i in range(4):\n",
        "            label = labels[i]\n",
        "            class_correct[label] += c[i].item()\n",
        "            class_total[label] += 1\n",
        "\n",
        "\n",
        "for i in range(10):\n",
        "    print('Accuracy of %5s : %2d %%' % (\n",
        "        classes[i], 100 * class_correct[i] / class_total[i]))"
      ]
    },
    {
      "cell_type": "markdown",
      "metadata": {
        "id": "G4G9a-B1-qPY"
      },
      "source": [
        "Display the confusion matrix as a heatmap"
      ]
    },
    {
      "cell_type": "code",
      "execution_count": null,
      "metadata": {
        "colab": {
          "base_uri": "https://localhost:8080/",
          "height": 560
        },
        "id": "dNBW6KIe-pcE",
        "outputId": "99741c0b-ed5b-4d3b-f061-fc3c46ca1e54"
      },
      "outputs": [
        {
          "data": {
            "text/plain": [
              "Text(83.22222222222221, 0.5, 'label (ground truth)')"
            ]
          },
          "execution_count": 15,
          "metadata": {},
          "output_type": "execute_result"
        },
        {
          "data": {
            "image/png": "[encoded data removed]",
            "text/plain": [
              "<Figure size 900x600 with 2 Axes>"
            ]
          },
          "metadata": {},
          "output_type": "display_data"
        }
      ],
      "source": [
        "import pandas as pd\n",
        "import seaborn as sns\n",
        "from sklearn.metrics import confusion_matrix\n",
        "# Display the confusion matrix as a heatmap\n",
        "arr = confusion_matrix(truth, preds)\n",
        "class_names = ['plane', 'car', ' bird', '  cat', ' deer', '  dog', ' frog', 'horse', ' ship', 'truck']\n",
        "df_cm = pd.DataFrame(arr, class_names, class_names)\n",
        "plt.figure(figsize = (9,6))\n",
        "sns.heatmap(df_cm, annot=True, fmt=\"d\", cmap='BuGn')\n",
        "plt.xlabel(\"prediction\")\n",
        "plt.ylabel(\"label (ground truth)\")"
      ]
    },
    {
      "cell_type": "markdown",
      "metadata": {
        "id": "Vj0eQ9PNRLVp"
      },
      "source": [
        "Some multi-class performance report defined from Scikit-learn"
      ]
    },
    {
      "cell_type": "code",
      "execution_count": null,
      "metadata": {
        "colab": {
          "base_uri": "https://localhost:8080/"
        },
        "id": "OkSW5zumAX05",
        "outputId": "393e245b-44d2-4f8c-ce3b-a175e62b96d1"
      },
      "outputs": [
        {
          "name": "stdout",
          "output_type": "stream",
          "text": [
            "              precision    recall  f1-score   support\n",
            "\n",
            "       plane       0.55      0.63      0.59      1001\n",
            "         car       0.67      0.61      0.64      1000\n",
            "        bird       0.50      0.23      0.31      1000\n",
            "         cat       0.38      0.33      0.36      1000\n",
            "        deer       0.45      0.40      0.43      1000\n",
            "         dog       0.43      0.46      0.44      1000\n",
            "        frog       0.51      0.67      0.58      1000\n",
            "       horse       0.48      0.69      0.57      1000\n",
            "        ship       0.66      0.57      0.62      1000\n",
            "       truck       0.58      0.59      0.58      1000\n",
            "\n",
            "    accuracy                           0.52     10001\n",
            "   macro avg       0.52      0.52      0.51     10001\n",
            "weighted avg       0.52      0.52      0.51     10001\n",
            "\n"
          ]
        }
      ],
      "source": [
        "from sklearn.metrics import classification_report\n",
        "print(classification_report(truth, preds, target_names=class_names))"
      ]
    },
    {
      "cell_type": "code",
      "execution_count": null,
      "metadata": {
        "id": "WhbptAXcT0Ct"
      },
      "outputs": [],
      "source": []
    }
  ],
  "metadata": {
    "accelerator": "GPU",
    "colab": {
      "gpuType": "T4",
      "provenance": []
    },
    "kernelspec": {
      "display_name": "Python 3",
      "name": "python3"
    },
    "language_info": {
      "codemirror_mode": {
        "name": "ipython",
        "version": 3
      },
      "file_extension": ".py",
      "mimetype": "text/x-python",
      "name": "python",
      "nbconvert_exporter": "python",
      "pygments_lexer": "ipython3",
      "version": "3.11.9"
    }
  },
  "nbformat": 4,
  "nbformat_minor": 0
}
